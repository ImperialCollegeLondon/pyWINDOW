{
 "cells": [
  {
   "cell_type": "code",
   "execution_count": 1,
   "metadata": {
    "ExecuteTime": {
     "end_time": "2017-05-10T14:28:52.162526",
     "start_time": "2017-05-10T14:28:51.255647"
    },
    "collapsed": false,
    "run_control": {
     "frozen": false,
     "read_only": false
    }
   },
   "outputs": [],
   "source": [
    "import numpy as np\n",
    "from pywindow import Molecule, MolecularSystem, Trajectory"
   ]
  },
  {
   "cell_type": "code",
   "execution_count": 2,
   "metadata": {
    "ExecuteTime": {
     "end_time": "2017-05-10T14:28:52.168595",
     "start_time": "2017-05-10T14:28:52.165134"
    },
    "collapsed": false
   },
   "outputs": [],
   "source": [
    "trajectory = Trajectory()"
   ]
  },
  {
   "cell_type": "code",
   "execution_count": 3,
   "metadata": {
    "ExecuteTime": {
     "end_time": "2017-05-10T14:28:52.402693",
     "start_time": "2017-05-10T14:28:52.171212"
    },
    "collapsed": false
   },
   "outputs": [],
   "source": [
    "history = trajectory.DLPOLY.load_HISTORY('./tests/test_5/HISTORY_CC3_cage')"
   ]
  },
  {
   "cell_type": "code",
   "execution_count": 4,
   "metadata": {
    "ExecuteTime": {
     "end_time": "2017-05-10T14:28:52.463606",
     "start_time": "2017-05-10T14:28:52.404973"
    },
    "collapsed": false
   },
   "outputs": [],
   "source": [
    "frame_19 = history.get_frames(19)"
   ]
  },
  {
   "cell_type": "code",
   "execution_count": 5,
   "metadata": {
    "ExecuteTime": {
     "end_time": "2017-05-10T14:28:52.508294",
     "start_time": "2017-05-10T14:28:52.466351"
    },
    "collapsed": false
   },
   "outputs": [
    {
     "data": {
      "text/plain": [
       "{'elements': array(['ni', 'ca', 'ca', 'cd', 'ct', 'ct', 'ct', 'ha', 'he', 'hc', 'hc',\n",
       "        'hc', 'hc', 'hc', 'ni', 'ca', 'ca', 'cd', 'ct', 'ct', 'ct', 'ha',\n",
       "        'he', 'hc', 'hc', 'hc', 'hc', 'hc', 'ni', 'ca', 'ca', 'cd', 'ct',\n",
       "        'ct', 'ct', 'ha', 'he', 'hc', 'hc', 'hc', 'hc', 'hc', 'ni', 'ca',\n",
       "        'ca', 'cd', 'ct', 'ct', 'ct', 'ha', 'he', 'hc', 'hc', 'hc', 'hc',\n",
       "        'hc', 'ni', 'ca', 'ca', 'cd', 'ct', 'ct', 'ct', 'ha', 'he', 'hc',\n",
       "        'hc', 'hc', 'hc', 'hc', 'ni', 'ca', 'ca', 'cd', 'ct', 'ct', 'ct',\n",
       "        'ha', 'he', 'hc', 'hc', 'hc', 'hc', 'hc', 'ni', 'ca', 'ca', 'cd',\n",
       "        'ct', 'ct', 'ct', 'ha', 'he', 'hc', 'hc', 'hc', 'hc', 'hc', 'ni',\n",
       "        'ca', 'ca', 'cd', 'ct', 'ct', 'ct', 'ha', 'he', 'hc', 'hc', 'hc',\n",
       "        'hc', 'hc', 'ni', 'ca', 'ca', 'cd', 'ct', 'ct', 'ct', 'ha', 'he',\n",
       "        'hc', 'hc', 'hc', 'hc', 'hc', 'ni', 'ca', 'ca', 'cd', 'ct', 'ct',\n",
       "        'ct', 'ha', 'he', 'hc', 'hc', 'hc', 'hc', 'hc', 'ni', 'ca', 'ca',\n",
       "        'cd', 'ct', 'ct', 'ct', 'ha', 'he', 'hc', 'hc', 'hc', 'hc', 'hc',\n",
       "        'ni', 'ca', 'ca', 'cd', 'ct', 'ct', 'ct', 'ha', 'he', 'hc', 'hc',\n",
       "        'hc', 'hc', 'hc'], \n",
       "       dtype='<U2'),\n",
       " 'frame_info': {'imcon': 0,\n",
       "  'keytrj': 0,\n",
       "  'natms': 168,\n",
       "  'nstep': 180857,\n",
       "  'tstep': 0.0007},\n",
       " 'xyz_coordinates': array([[ -0.23498 ,   0.82946 ,  -5.9856  ],\n",
       "        [  0.51695 ,   2.4517  ,  -3.7755  ],\n",
       "        [  1.1521  ,   1.2142  ,  -4.1236  ],\n",
       "        [  0.66804 ,   0.37046 ,  -5.1842  ],\n",
       "        [ -0.79402 ,   0.042458,  -7.0208  ],\n",
       "        [ -0.84357 ,   0.77102 ,  -8.3867  ],\n",
       "        [ -1.7111  ,  -0.027843,  -9.4197  ],\n",
       "        [ -0.37148 ,   2.8446  ,  -4.2676  ],\n",
       "        [  0.9603  ,  -0.71498 ,  -5.2505  ],\n",
       "        [ -0.29521 ,  -0.92246 ,  -7.1899  ],\n",
       "        [  0.10137 ,   0.99426 ,  -8.7235  ],\n",
       "        [ -1.4117  ,   1.7763  ,  -8.1388  ],\n",
       "        [ -1.6837  ,   0.60787 , -10.428   ],\n",
       "        [ -1.164   ,  -0.91993 ,  -9.7209  ],\n",
       "        [  1.1246  ,  -5.6936  ,   1.0157  ],\n",
       "        [  2.8746  ,  -3.3492  ,   0.85678 ],\n",
       "        [  1.8766  ,  -3.5846  ,   1.8827  ],\n",
       "        [  0.92339 ,  -4.6792  ,   1.7956  ],\n",
       "        [  0.10117 ,  -6.7198  ,   0.99561 ],\n",
       "        [  0.91004 ,  -8.0867  ,   1.158   ],\n",
       "        [  0.013717,  -9.36    ,   0.97016 ],\n",
       "        [  3.0026  ,  -4.0404  ,   0.078515],\n",
       "        [  0.078844,  -4.667   ,   2.4979  ],\n",
       "        [ -0.63376 ,  -6.5501  ,   1.7792  ],\n",
       "        [  1.3121  ,  -8.1619  ,   2.1057  ],\n",
       "        [  1.7625  ,  -8.1342  ,   0.40208 ],\n",
       "        [  0.5426  , -10.365   ,   1.2394  ],\n",
       "        [ -0.7681  ,  -9.3622  ,   1.6674  ],\n",
       "        [ -4.9672  ,   1.1373  ,   2.4788  ],\n",
       "        [ -2.349   ,   1.7473  ,   3.5668  ],\n",
       "        [ -2.9912  ,   2.4209  ,   2.4804  ],\n",
       "        [ -4.2861  ,   2.0426  ,   1.9547  ],\n",
       "        [ -6.3725  ,   1.0115  ,   2.0533  ],\n",
       "        [ -7.2701  ,   1.1511  ,   3.2583  ],\n",
       "        [ -8.7848  ,   0.96574 ,   2.9639  ],\n",
       "        [ -2.867   ,   0.9447  ,   4.1586  ],\n",
       "        [ -4.6627  ,   2.6716  ,   1.1441  ],\n",
       "        [ -6.6861  ,   1.7251  ,   1.2487  ],\n",
       "        [ -6.9482  ,   2.1555  ,   3.6862  ],\n",
       "        [ -7.0218  ,   0.43077 ,   3.9775  ],\n",
       "        [ -9.3731  ,   1.1962  ,   3.9564  ],\n",
       "        [ -9.2333  ,   1.5711  ,   2.2454  ],\n",
       "        [ -2.1665  ,  -1.2768  ,  -5.3314  ],\n",
       "        [ -2.4097  ,  -2.9826  ,  -2.9084  ],\n",
       "        [ -3.1154  ,  -1.7519  ,  -3.0923  ],\n",
       "        [ -2.9389  ,  -0.94719 ,  -4.3415  ],\n",
       "        [ -2.1907  ,  -0.42615 ,  -6.5152  ],\n",
       "        [ -3.007   ,  -1.1936  ,  -7.6371  ],\n",
       "        [ -3.1002  ,  -0.35814 ,  -8.9356  ],\n",
       "        [ -1.7048  ,  -3.3323  ,  -3.6539  ],\n",
       "        [ -3.5051  ,  -0.057459,  -4.4614  ],\n",
       "        [ -2.7487  ,   0.51744 ,  -6.3194  ],\n",
       "        [ -3.9558  ,  -1.5309  ,  -7.2849  ],\n",
       "        [ -2.4332  ,  -2.0822  ,  -7.8485  ],\n",
       "        [ -3.705   ,  -0.87356 ,  -9.6898  ],\n",
       "        [ -3.6111  ,   0.47015 ,  -8.7097  ],\n",
       "        [ -0.67411 ,   5.7902  ,   1.001   ],\n",
       "        [ -2.2459  ,   3.473   ,   1.8948  ],\n",
       "        [ -0.93327 ,   3.7576  ,   2.3122  ],\n",
       "        [ -0.1252  ,   4.8432  ,   1.6679  ],\n",
       "        [  0.2286  ,   6.7492  ,   0.39144 ],\n",
       "        [ -0.38874 ,   8.1691  ,   0.57259 ],\n",
       "        [  0.53906 ,   9.1793  ,  -0.079359],\n",
       "        [ -2.6569  ,   3.9479  ,   1.0515  ],\n",
       "        [  0.95991 ,   4.7037  ,   1.8405  ],\n",
       "        [  1.2301  ,   6.6344  ,   0.84346 ],\n",
       "        [ -0.49347 ,   8.4264  ,   1.6663  ],\n",
       "        [ -1.4259  ,   8.2111  ,   0.18227 ],\n",
       "        [  0.20656 ,  10.2     ,   0.068102],\n",
       "        [  1.5925  ,   9.1158  ,   0.42034 ],\n",
       "        [  5.581   ,  -1.0223  ,   0.027104],\n",
       "        [  3.6963  ,  -1.4536  ,   2.102   ],\n",
       "        [  3.764   ,  -2.2845  ,   0.97048 ],\n",
       "        [  4.7751  ,  -2.0182  ,  -0.063009],\n",
       "        [  6.551   ,  -0.89752 ,  -1.0466  ],\n",
       "        [  7.9401  ,  -0.94125 ,  -0.38925 ],\n",
       "        [  9.0689  ,  -0.87636 ,  -1.4007  ],\n",
       "        [  4.2472  ,  -0.5878  ,   2.0977  ],\n",
       "        [  4.9127  ,  -2.7632  ,  -0.87332 ],\n",
       "        [  6.5618  ,  -1.6856  ,  -1.8025  ],\n",
       "        [  8.225   ,  -1.9651  ,   0.12181 ],\n",
       "        [  8.006   ,  -0.15083 ,   0.31878 ],\n",
       "        [  9.9187  ,  -0.80357 ,  -0.76811 ],\n",
       "        [  9.1119  ,  -1.8191  ,  -1.9609  ],\n",
       "        [  1.9083  ,  -0.62459 ,   5.167   ],\n",
       "        [  1.8031  ,  -2.6536  ,   2.9374  ],\n",
       "        [  2.7128  ,  -1.6166  ,   3.0673  ],\n",
       "        [  2.7905  ,  -0.72109 ,   4.2402  ],\n",
       "        [  2.2771  ,   0.19776 ,   6.3001  ],\n",
       "        [  2.8919  ,  -0.6925  ,   7.4406  ],\n",
       "        [  3.4086  ,   0.18939 ,   8.6057  ],\n",
       "        [  1.0231  ,  -2.7385  ,   3.7269  ],\n",
       "        [  3.6919  ,  -0.15025 ,   4.299   ],\n",
       "        [  2.8309  ,   1.0451  ,   6.0683  ],\n",
       "        [  3.6981  ,  -1.3696  ,   6.9665  ],\n",
       "        [  2.1516  ,  -1.3221  ,   7.793   ],\n",
       "        [  3.9676  ,  -0.47516 ,   9.4645  ],\n",
       "        [  4.0971  ,   0.82309 ,   8.3692  ],\n",
       "        [  0.89353 ,   5.1726  ,  -1.3305  ],\n",
       "        [  2.2425  ,   2.754   ,  -2.0958  ],\n",
       "        [  1.0267  ,   3.186   ,  -2.6834  ],\n",
       "        [  0.39701 ,   4.4606  ,  -2.2247  ],\n",
       "        [  0.3367  ,   6.4748  ,  -1.1359  ],\n",
       "        [  1.249   ,   7.4761  ,  -1.8464  ],\n",
       "        [  0.72904 ,   8.8706  ,  -1.617   ],\n",
       "        [  2.7642  ,   3.3404  ,  -1.3015  ],\n",
       "        [ -0.51498 ,   4.7475  ,  -2.7827  ],\n",
       "        [ -0.64944 ,   6.588   ,  -1.476   ],\n",
       "        [  1.2397  ,   7.2892  ,  -2.9745  ],\n",
       "        [  2.1935  ,   7.3677  ,  -1.578   ],\n",
       "        [  1.2973  ,   9.7206  ,  -2.1657  ],\n",
       "        [ -0.24949 ,   8.845   ,  -2.0362  ],\n",
       "        [ -5.815   ,  -0.64735 ,   0.23109 ],\n",
       "        [ -4.0343  ,  -1.3268  ,  -2.0914  ],\n",
       "        [ -4.1454  ,  -2.0636  ,  -0.86196 ],\n",
       "        [ -5.0493  ,  -1.6835  ,   0.25278 ],\n",
       "        [ -6.5617  ,  -0.39652 ,   1.4637  ],\n",
       "        [ -8.0795  ,  -0.65666 ,   1.2124  ],\n",
       "        [ -8.949   ,  -0.51625 ,   2.4662  ],\n",
       "        [ -4.717   ,  -0.51028 ,  -2.3602  ],\n",
       "        [ -5.0773  ,  -2.3722  ,   1.0889  ],\n",
       "        [ -6.3516  ,  -1.1725  ,   2.2091  ],\n",
       "        [ -8.2429  ,  -1.6891  ,   0.79268 ],\n",
       "        [ -8.4466  ,   0.026392,   0.39785 ],\n",
       "        [-10.033   ,  -0.79842 ,   2.0684  ],\n",
       "        [ -8.6853  ,  -1.1942  ,   3.2244  ],\n",
       "        [  0.45557 ,   1.8264  ,   5.9212  ],\n",
       "        [ -0.39048 ,   3.1301  ,   3.4373  ],\n",
       "        [ -1.0643  ,   2.0945  ,   4.066   ],\n",
       "        [ -0.44451 ,   1.3376  ,   5.2014  ],\n",
       "        [  1.0325  ,   0.89851 ,   6.8731  ],\n",
       "        [  1.4313  ,   1.8352  ,   8.0598  ],\n",
       "        [  2.0814  ,   0.92072 ,   9.1974  ],\n",
       "        [  0.57835 ,   3.4655  ,   3.8429  ],\n",
       "        [ -0.78531 ,   0.29081 ,   5.3545  ],\n",
       "        [  0.33804 ,   0.18293 ,   7.2706  ],\n",
       "        [  0.50563 ,   2.2659  ,   8.3861  ],\n",
       "        [  2.2134  ,   2.5945  ,   7.8735  ],\n",
       "        [  2.3667  ,   1.4964  ,  10.044   ],\n",
       "        [  1.3824  ,   0.081709,   9.5343  ],\n",
       "        [ -1.5973  ,  -5.6048  ,  -0.45824 ],\n",
       "        [ -3.2714  ,  -3.1699  ,  -0.66091 ],\n",
       "        [ -2.4186  ,  -3.6709  ,  -1.6688  ],\n",
       "        [ -1.5787  ,  -4.8478  ,  -1.4522  ],\n",
       "        [ -0.63658 ,  -6.7471  ,  -0.36931 ],\n",
       "        [ -1.4584  ,  -8.0254  ,  -0.56249 ],\n",
       "        [ -0.5947  ,  -9.334   ,  -0.38779 ],\n",
       "        [ -3.1907  ,  -3.6112  ,   0.34636 ],\n",
       "        [ -0.85371 ,  -5.0501  ,  -2.254   ],\n",
       "        [  0.17568 ,  -6.6958  ,  -1.1716  ],\n",
       "        [ -1.9798  ,  -8.1562  ,  -1.5894  ],\n",
       "        [ -2.1851  ,  -7.9401  ,   0.1869  ],\n",
       "        [ -1.2628  , -10.164   ,  -0.48915 ],\n",
       "        [  0.18958 ,  -9.4203  ,  -1.2064  ],\n",
       "        [  5.1085  ,   0.59571 ,  -2.4685  ],\n",
       "        [  2.4222  ,   0.88822 ,  -3.5774  ],\n",
       "        [  2.9665  ,   1.6666  ,  -2.5332  ],\n",
       "        [  4.3062  ,   1.3687  ,  -1.9035  ],\n",
       "        [  6.4341  ,   0.47158 ,  -1.8137  ],\n",
       "        [  7.5151  ,   0.61346 ,  -2.9051  ],\n",
       "        [  8.9404  ,   0.39044 ,  -2.263   ],\n",
       "        [  2.9006  ,  -0.040592,  -3.8023  ],\n",
       "        [  4.4781  ,   1.8136  ,  -0.90116 ],\n",
       "        [  6.6427  ,   1.2043  ,  -1.0417  ],\n",
       "        [  7.5217  ,   1.5132  ,  -3.3848  ],\n",
       "        [  7.3572  ,  -0.13377 ,  -3.7354  ],\n",
       "        [  9.6249  ,   0.32694 ,  -3.1714  ],\n",
       "        [  9.238   ,   1.2812  ,  -1.6876  ]])}"
      ]
     },
     "execution_count": 5,
     "metadata": {},
     "output_type": "execute_result"
    }
   ],
   "source": [
    "frame_19"
   ]
  },
  {
   "cell_type": "code",
   "execution_count": 6,
   "metadata": {
    "ExecuteTime": {
     "end_time": "2017-05-10T14:28:52.514023",
     "start_time": "2017-05-10T14:28:52.510456"
    },
    "collapsed": false
   },
   "outputs": [],
   "source": [
    "molsys_19 = MolecularSystem().load_trajectory_frame(frame_19) "
   ]
  },
  {
   "cell_type": "code",
   "execution_count": 7,
   "metadata": {
    "ExecuteTime": {
     "end_time": "2017-05-10T14:28:52.532363",
     "start_time": "2017-05-10T14:28:52.516374"
    },
    "collapsed": false
   },
   "outputs": [],
   "source": [
    "molsys_19.swap_atom_keys({'he': 'h'})"
   ]
  },
  {
   "cell_type": "code",
   "execution_count": 8,
   "metadata": {
    "ExecuteTime": {
     "end_time": "2017-05-10T14:28:52.540532",
     "start_time": "2017-05-10T14:28:52.534972"
    },
    "collapsed": true
   },
   "outputs": [],
   "source": [
    "molsys_19.decipher_atom_keys(\"opls\")"
   ]
  },
  {
   "cell_type": "code",
   "execution_count": 9,
   "metadata": {
    "ExecuteTime": {
     "end_time": "2017-05-10T14:28:52.604943",
     "start_time": "2017-05-10T14:28:52.543370"
    },
    "collapsed": false
   },
   "outputs": [],
   "source": [
    "molsys_19.separate_discrete_molecules()"
   ]
  },
  {
   "cell_type": "code",
   "execution_count": 10,
   "metadata": {
    "ExecuteTime": {
     "end_time": "2017-05-10T14:28:52.610997",
     "start_time": "2017-05-10T14:28:52.607477"
    },
    "collapsed": false
   },
   "outputs": [],
   "source": [
    "mol_0 = molsys_19.molecules[0]"
   ]
  },
  {
   "cell_type": "code",
   "execution_count": 11,
   "metadata": {
    "ExecuteTime": {
     "end_time": "2017-05-10T14:28:52.618180",
     "start_time": "2017-05-10T14:28:52.613839"
    },
    "collapsed": false
   },
   "outputs": [],
   "source": [
    "mol_0_com = mol_0.calculate_COM()"
   ]
  },
  {
   "cell_type": "code",
   "execution_count": 12,
   "metadata": {
    "ExecuteTime": {
     "end_time": "2017-05-10T14:28:52.643691",
     "start_time": "2017-05-10T14:28:52.620560"
    },
    "collapsed": false
   },
   "outputs": [],
   "source": [
    "mol_0_maxd = mol_0.calculate_maximum_diameter()"
   ]
  },
  {
   "cell_type": "code",
   "execution_count": 13,
   "metadata": {
    "ExecuteTime": {
     "end_time": "2017-05-10T14:28:52.653401",
     "start_time": "2017-05-10T14:28:52.646788"
    },
    "collapsed": false
   },
   "outputs": [],
   "source": [
    "mol_0_voidd = mol_0.calculate_void_diameter()"
   ]
  },
  {
   "cell_type": "code",
   "execution_count": 14,
   "metadata": {
    "ExecuteTime": {
     "end_time": "2017-05-10T14:28:52.663647",
     "start_time": "2017-05-10T14:28:52.657074"
    },
    "collapsed": true
   },
   "outputs": [],
   "source": [
    "mol_0_voidV = mol_0.calculate_void_volume()"
   ]
  },
  {
   "cell_type": "code",
   "execution_count": 15,
   "metadata": {
    "ExecuteTime": {
     "end_time": "2017-05-10T14:28:52.926284",
     "start_time": "2017-05-10T14:28:52.667286"
    },
    "collapsed": false
   },
   "outputs": [],
   "source": [
    "mol_0_voidd_opt = mol_0.calculate_void_diameter_opt()"
   ]
  },
  {
   "cell_type": "code",
   "execution_count": 16,
   "metadata": {
    "ExecuteTime": {
     "end_time": "2017-05-10T14:28:53.174094",
     "start_time": "2017-05-10T14:28:52.928582"
    },
    "collapsed": false
   },
   "outputs": [],
   "source": [
    "mol_0_voidV_opt = mol_0.calculate_void_volume_opt()"
   ]
  },
  {
   "cell_type": "code",
   "execution_count": 17,
   "metadata": {
    "ExecuteTime": {
     "end_time": "2017-05-10T14:28:56.208562",
     "start_time": "2017-05-10T14:28:53.176673"
    },
    "collapsed": false
   },
   "outputs": [
    {
     "name": "stdout",
     "output_type": "stream",
     "text": [
      "Using void opt False\n"
     ]
    },
    {
     "data": {
      "text/plain": [
       "(array([ 3.87592996,  4.03483757,  3.94691343,  4.42654878]),\n",
       " array([[-1.40842683, -1.32564223,  1.86155575],\n",
       "        [ 2.67967253,  2.08931914,  1.61790513],\n",
       "        [-2.12261809,  1.71598578, -1.32886047],\n",
       "        [ 1.60205355, -2.91408787, -2.81821651]]))"
      ]
     },
     "execution_count": 17,
     "metadata": {},
     "output_type": "execute_result"
    }
   ],
   "source": [
    "mol_0.calculate_windows(void_opt=False)"
   ]
  },
  {
   "cell_type": "code",
   "execution_count": 18,
   "metadata": {
    "ExecuteTime": {
     "end_time": "2017-05-10T14:28:59.499061",
     "start_time": "2017-05-10T14:28:56.210867"
    },
    "collapsed": false
   },
   "outputs": [
    {
     "name": "stdout",
     "output_type": "stream",
     "text": [
      "Using void opt True\n"
     ]
    },
    {
     "data": {
      "text/plain": [
       "(array([ 3.87746909,  4.1187237 ,  3.93179729,  3.88909279]),\n",
       " array([[-1.4518915 , -1.37643852,  1.93008862],\n",
       "        [ 2.96599665,  2.27599079,  1.82248981],\n",
       "        [-2.00916303,  1.61221437, -1.25484209],\n",
       "        [ 0.99722229, -2.06805166, -1.99222515]]))"
      ]
     },
     "execution_count": 18,
     "metadata": {},
     "output_type": "execute_result"
    }
   ],
   "source": [
    "mol_0.calculate_windows(void_opt=True)"
   ]
  },
  {
   "cell_type": "code",
   "execution_count": 19,
   "metadata": {
    "ExecuteTime": {
     "end_time": "2017-05-10T14:29:00.238537",
     "start_time": "2017-05-10T14:28:59.501714"
    },
    "collapsed": false
   },
   "outputs": [
    {
     "ename": "KeyError",
     "evalue": "'void_opt'",
     "output_type": "error",
     "traceback": [
      "\u001b[0;31m---------------------------------------------------------------------------\u001b[0m",
      "\u001b[0;31mKeyError\u001b[0m                                  Traceback (most recent call last)",
      "\u001b[0;32m<ipython-input-19-2112247437f9>\u001b[0m in \u001b[0;36m<module>\u001b[0;34m()\u001b[0m\n\u001b[0;32m----> 1\u001b[0;31m \u001b[0mhistory\u001b[0m\u001b[0;34m.\u001b[0m\u001b[0manalysis\u001b[0m\u001b[0;34m(\u001b[0m\u001b[0mframes\u001b[0m\u001b[0;34m=\u001b[0m\u001b[0;36m19\u001b[0m\u001b[0;34m,\u001b[0m \u001b[0mforcefield\u001b[0m\u001b[0;34m=\u001b[0m\u001b[0;34m'opls'\u001b[0m\u001b[0;34m,\u001b[0m \u001b[0mswap_atoms\u001b[0m\u001b[0;34m=\u001b[0m\u001b[0;34m{\u001b[0m\u001b[0;34m'he'\u001b[0m\u001b[0;34m:\u001b[0m \u001b[0;34m'h'\u001b[0m\u001b[0;34m}\u001b[0m\u001b[0;34m)\u001b[0m\u001b[0;34m\u001b[0m\u001b[0m\n\u001b[0m",
      "\u001b[0;32m/Users/marcinmiklitz/Dropbox (Jelfs Group)/pywindow/pywindow/pywindow/trajectory.py\u001b[0m in \u001b[0;36manalysis\u001b[0;34m(self, frames, ncpus, **kwargs)\u001b[0m\n\u001b[1;32m    508\u001b[0m     \u001b[0;32mdef\u001b[0m \u001b[0manalysis\u001b[0m\u001b[0;34m(\u001b[0m\u001b[0mself\u001b[0m\u001b[0;34m,\u001b[0m \u001b[0mframes\u001b[0m\u001b[0;34m=\u001b[0m\u001b[0;34m'all'\u001b[0m\u001b[0;34m,\u001b[0m \u001b[0mncpus\u001b[0m\u001b[0;34m=\u001b[0m\u001b[0;36m1\u001b[0m\u001b[0;34m,\u001b[0m \u001b[0;34m**\u001b[0m\u001b[0mkwargs\u001b[0m\u001b[0;34m)\u001b[0m\u001b[0;34m:\u001b[0m\u001b[0;34m\u001b[0m\u001b[0m\n\u001b[1;32m    509\u001b[0m         \u001b[0;32mif\u001b[0m \u001b[0misinstance\u001b[0m\u001b[0;34m(\u001b[0m\u001b[0mframes\u001b[0m\u001b[0;34m,\u001b[0m \u001b[0mint\u001b[0m\u001b[0;34m)\u001b[0m\u001b[0;34m:\u001b[0m\u001b[0;34m\u001b[0m\u001b[0m\n\u001b[0;32m--> 510\u001b[0;31m             \u001b[0;32mreturn\u001b[0m \u001b[0mself\u001b[0m\u001b[0;34m.\u001b[0m\u001b[0m_analysis_serial\u001b[0m\u001b[0;34m(\u001b[0m\u001b[0mframes\u001b[0m\u001b[0;34m,\u001b[0m \u001b[0mncpus\u001b[0m\u001b[0;34m,\u001b[0m \u001b[0;34m**\u001b[0m\u001b[0mkwargs\u001b[0m\u001b[0;34m)\u001b[0m\u001b[0;34m\u001b[0m\u001b[0m\n\u001b[0m\u001b[1;32m    511\u001b[0m \u001b[0;34m\u001b[0m\u001b[0m\n\u001b[1;32m    512\u001b[0m     \u001b[0;32mdef\u001b[0m \u001b[0m_analysis_serial\u001b[0m\u001b[0;34m(\u001b[0m\u001b[0mself\u001b[0m\u001b[0;34m,\u001b[0m \u001b[0mframe\u001b[0m\u001b[0;34m,\u001b[0m \u001b[0mncpus\u001b[0m\u001b[0;34m,\u001b[0m \u001b[0;34m**\u001b[0m\u001b[0mkwargs\u001b[0m\u001b[0;34m)\u001b[0m\u001b[0;34m:\u001b[0m\u001b[0;34m\u001b[0m\u001b[0m\n",
      "\u001b[0;32m/Users/marcinmiklitz/Dropbox (Jelfs Group)/pywindow/pywindow/pywindow/trajectory.py\u001b[0m in \u001b[0;36m_analysis_serial\u001b[0;34m(self, frame, ncpus, **kwargs)\u001b[0m\n\u001b[1;32m    538\u001b[0m                             \u001b[0mresults\u001b[0m\u001b[0;34m[\u001b[0m\u001b[0mmolecule\u001b[0m\u001b[0;34m]\u001b[0m \u001b[0;34m=\u001b[0m \u001b[0mmol\u001b[0m\u001b[0;34m.\u001b[0m\u001b[0mfull_analysis\u001b[0m\u001b[0;34m(\u001b[0m\u001b[0;34m**\u001b[0m\u001b[0mkwargs\u001b[0m\u001b[0;34m)\u001b[0m\u001b[0;34m\u001b[0m\u001b[0m\n\u001b[1;32m    539\u001b[0m             \u001b[0;32melse\u001b[0m\u001b[0;34m:\u001b[0m\u001b[0;34m\u001b[0m\u001b[0m\n\u001b[0;32m--> 540\u001b[0;31m                 \u001b[0mresults\u001b[0m\u001b[0;34m[\u001b[0m\u001b[0mmolecule\u001b[0m\u001b[0;34m]\u001b[0m \u001b[0;34m=\u001b[0m \u001b[0mmol\u001b[0m\u001b[0;34m.\u001b[0m\u001b[0mfull_analysis\u001b[0m\u001b[0;34m(\u001b[0m\u001b[0;34m**\u001b[0m\u001b[0mkwargs\u001b[0m\u001b[0;34m)\u001b[0m\u001b[0;34m\u001b[0m\u001b[0m\n\u001b[0m\u001b[1;32m    541\u001b[0m         \u001b[0;32mreturn\u001b[0m \u001b[0mresults\u001b[0m\u001b[0;34m\u001b[0m\u001b[0m\n\u001b[1;32m    542\u001b[0m \u001b[0;34m\u001b[0m\u001b[0m\n",
      "\u001b[0;32m/Users/marcinmiklitz/Dropbox (Jelfs Group)/pywindow/pywindow/pywindow/molecular.py\u001b[0m in \u001b[0;36mfull_analysis\u001b[0;34m(self, **kwargs)\u001b[0m\n\u001b[1;32m     35\u001b[0m             \u001b[0;34m'void_diameter_opt'\u001b[0m\u001b[0;34m:\u001b[0m \u001b[0mself\u001b[0m\u001b[0;34m.\u001b[0m\u001b[0mcalculate_void_diameter_opt\u001b[0m\u001b[0;34m(\u001b[0m\u001b[0;34m)\u001b[0m\u001b[0;34m,\u001b[0m\u001b[0;34m\u001b[0m\u001b[0m\n\u001b[1;32m     36\u001b[0m             \u001b[0;34m'void_volume_opt'\u001b[0m\u001b[0;34m:\u001b[0m \u001b[0mself\u001b[0m\u001b[0;34m.\u001b[0m\u001b[0mcalculate_void_volume_opt\u001b[0m\u001b[0;34m(\u001b[0m\u001b[0;34m)\u001b[0m\u001b[0;34m,\u001b[0m\u001b[0;34m\u001b[0m\u001b[0m\n\u001b[0;32m---> 37\u001b[0;31m             \u001b[0;34m'windows'\u001b[0m\u001b[0;34m:\u001b[0m \u001b[0mself\u001b[0m\u001b[0;34m.\u001b[0m\u001b[0mcalculate_windows\u001b[0m\u001b[0;34m(\u001b[0m\u001b[0;34m**\u001b[0m\u001b[0mkwargs\u001b[0m\u001b[0;34m)\u001b[0m\u001b[0;34m,\u001b[0m\u001b[0;34m\u001b[0m\u001b[0m\n\u001b[0m\u001b[1;32m     38\u001b[0m         }\n\u001b[1;32m     39\u001b[0m         \u001b[0;32mreturn\u001b[0m\u001b[0;34m(\u001b[0m\u001b[0mresults\u001b[0m\u001b[0;34m)\u001b[0m\u001b[0;34m\u001b[0m\u001b[0m\n",
      "\u001b[0;32m/Users/marcinmiklitz/Dropbox (Jelfs Group)/pywindow/pywindow/pywindow/molecular.py\u001b[0m in \u001b[0;36mcalculate_windows\u001b[0;34m(self, **kwargs)\u001b[0m\n\u001b[1;32m     74\u001b[0m \u001b[0;34m\u001b[0m\u001b[0m\n\u001b[1;32m     75\u001b[0m     \u001b[0;32mdef\u001b[0m \u001b[0mcalculate_windows\u001b[0m\u001b[0;34m(\u001b[0m\u001b[0mself\u001b[0m\u001b[0;34m,\u001b[0m \u001b[0;34m**\u001b[0m\u001b[0mkwargs\u001b[0m\u001b[0;34m)\u001b[0m\u001b[0;34m:\u001b[0m\u001b[0;34m\u001b[0m\u001b[0m\n\u001b[0;32m---> 76\u001b[0;31m         \u001b[0;32mreturn\u001b[0m \u001b[0mfind_windows\u001b[0m\u001b[0;34m(\u001b[0m\u001b[0mself\u001b[0m\u001b[0;34m.\u001b[0m\u001b[0melements\u001b[0m\u001b[0;34m,\u001b[0m \u001b[0mself\u001b[0m\u001b[0;34m.\u001b[0m\u001b[0mxyz_coordinates\u001b[0m\u001b[0;34m,\u001b[0m \u001b[0;34m**\u001b[0m\u001b[0mkwargs\u001b[0m\u001b[0;34m)\u001b[0m\u001b[0;34m\u001b[0m\u001b[0m\n\u001b[0m\u001b[1;32m     77\u001b[0m \u001b[0;34m\u001b[0m\u001b[0m\n\u001b[1;32m     78\u001b[0m     \u001b[0;32mdef\u001b[0m \u001b[0mshift_to_origin\u001b[0m\u001b[0;34m(\u001b[0m\u001b[0mself\u001b[0m\u001b[0;34m,\u001b[0m \u001b[0;34m**\u001b[0m\u001b[0mkwargs\u001b[0m\u001b[0;34m)\u001b[0m\u001b[0;34m:\u001b[0m\u001b[0;34m\u001b[0m\u001b[0m\n",
      "\u001b[0;32m/Users/marcinmiklitz/Dropbox (Jelfs Group)/pywindow/pywindow/pywindow/utilities.py\u001b[0m in \u001b[0;36mfind_windows\u001b[0;34m(elements, xyz_coordinates, ncpus, mol_size, cluster, adjust, increment, **kwargs)\u001b[0m\n\u001b[1;32m    670\u001b[0m     }\n\u001b[1;32m    671\u001b[0m     \u001b[0msettings\u001b[0m\u001b[0;34m.\u001b[0m\u001b[0mupdate\u001b[0m\u001b[0;34m(\u001b[0m\u001b[0mkwargs\u001b[0m\u001b[0;34m)\u001b[0m\u001b[0;34m\u001b[0m\u001b[0m\n\u001b[0;32m--> 672\u001b[0;31m     \u001b[0mkwargs\u001b[0m\u001b[0;34m.\u001b[0m\u001b[0mpop\u001b[0m\u001b[0;34m(\u001b[0m\u001b[0;34m'void_opt'\u001b[0m\u001b[0;34m)\u001b[0m\u001b[0;34m\u001b[0m\u001b[0m\n\u001b[0m\u001b[1;32m    673\u001b[0m     \u001b[0mprint\u001b[0m\u001b[0;34m(\u001b[0m\u001b[0;34m'Using void opt {0}'\u001b[0m\u001b[0;34m.\u001b[0m\u001b[0mformat\u001b[0m\u001b[0;34m(\u001b[0m\u001b[0msettings\u001b[0m\u001b[0;34m[\u001b[0m\u001b[0;34m'void_opt'\u001b[0m\u001b[0;34m]\u001b[0m\u001b[0;34m)\u001b[0m\u001b[0;34m)\u001b[0m\u001b[0;34m\u001b[0m\u001b[0m\n\u001b[1;32m    674\u001b[0m     \u001b[0;31m# Copy the coordinates as will perform many opertaions on them\u001b[0m\u001b[0;34m\u001b[0m\u001b[0;34m\u001b[0m\u001b[0m\n",
      "\u001b[0;31mKeyError\u001b[0m: 'void_opt'"
     ]
    }
   ],
   "source": [
    "history.analysis(frames=19, forcefield='opls', swap_atoms={'he': 'h'})"
   ]
  },
  {
   "cell_type": "code",
   "execution_count": null,
   "metadata": {
    "ExecuteTime": {
     "end_time": "2017-05-10T14:29:00.239197",
     "start_time": "2017-05-10T13:28:51.250Z"
    },
    "collapsed": false
   },
   "outputs": [],
   "source": [
    "for frame in range(history.no_of_frames):\n",
    "    print('Frame {0}'.format(frame))\n",
    "    print('COM     :', history.analysis(ncpus=4, frames=frame, forcefield='opls', swap_atoms={'he': 'h'}, void_opt=False)[0]['COM'])\n",
    "    print('COM_opt :', history.analysis(ncpus=4, frames=frame, forcefield='opls', swap_atoms={'he': 'h'})[0]['COM'])\n",
    "    print('Void    :', history.analysis(ncpus=4, frames=frame, forcefield='opls', swap_atoms={'he': 'h'}, void_opt=False)[0]['void_diameter'])\n",
    "    print('Void_opt:', history.analysis(ncpus=4, frames=frame, forcefield='opls', swap_atoms={'he': 'h'})[0]['void_diameter_opt'])\n",
    "    print('Void    :',frame, history.analysis(ncpus=4, frames=frame, forcefield='opls', swap_atoms={'he': 'h'}, void_opt=False)[0]['windows'][0])\n",
    "    print('Void_opt:',frame, history.analysis(ncpus=4, frames=frame, forcefield='opls', swap_atoms={'he': 'h'})[0]['windows'][0])"
   ]
  },
  {
   "cell_type": "code",
   "execution_count": null,
   "metadata": {
    "ExecuteTime": {
     "end_time": "2017-05-10T14:29:00.239620",
     "start_time": "2017-05-10T13:28:51.252Z"
    },
    "collapsed": false
   },
   "outputs": [],
   "source": [
    "for frame in range(history.no_of_frames):\n",
    "    molsys = MolecularSystem().load_trajectory_frame(history.get_frames(frame))\n",
    "    molsys.swap_atom_keys('he', 'h')\n",
    "    molsys.decipher_atom_keys(\"opls\")\n",
    "    molsys.dump_xyz(\"frame_{}\".format(frame))"
   ]
  },
  {
   "cell_type": "code",
   "execution_count": null,
   "metadata": {
    "collapsed": true
   },
   "outputs": [],
   "source": []
  }
 ],
 "metadata": {
  "hide_input": false,
  "kernelspec": {
   "display_name": "Python [conda env:my-rdkit-env]",
   "language": "python",
   "name": "conda-env-my-rdkit-env-py"
  },
  "language_info": {
   "codemirror_mode": {
    "name": "ipython",
    "version": 3
   },
   "file_extension": ".py",
   "mimetype": "text/x-python",
   "name": "python",
   "nbconvert_exporter": "python",
   "pygments_lexer": "ipython3",
   "version": "3.5.2"
  },
  "latex_envs": {
   "LaTeX_envs_menu_present": true,
   "autocomplete": true,
   "bibliofile": "biblio.bib",
   "cite_by": "apalike",
   "current_citInitial": 1,
   "eqLabelWithNumbers": true,
   "eqNumInitial": 1,
   "hotkeys": {
    "equation": "Ctrl-E",
    "itemize": "Ctrl-I"
   },
   "labels_anchors": false,
   "latex_user_defs": false,
   "report_style_numbering": false,
   "user_envs_cfg": false
  }
 },
 "nbformat": 4,
 "nbformat_minor": 2
}
