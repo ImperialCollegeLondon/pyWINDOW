{
 "cells": [
  {
   "cell_type": "code",
   "execution_count": 1,
   "metadata": {
    "ExecuteTime": {
     "end_time": "2018-07-17T13:21:33.825059Z",
     "start_time": "2018-07-17T13:21:32.549568Z"
    },
    "collapsed": true,
    "run_control": {
     "frozen": false,
     "read_only": false
    }
   },
   "outputs": [],
   "source": [
    "import pywindow as pw"
   ]
  },
  {
   "cell_type": "code",
   "execution_count": 2,
   "metadata": {
    "ExecuteTime": {
     "end_time": "2018-07-17T13:21:55.990845Z",
     "start_time": "2018-07-17T13:21:55.965372Z"
    },
    "collapsed": true
   },
   "outputs": [],
   "source": [
    "molsys = pw.MolecularSystem.load_file(\"./data/input/PUDXES_no_solvent.pdb\")"
   ]
  },
  {
   "cell_type": "code",
   "execution_count": 4,
   "metadata": {
    "ExecuteTime": {
     "end_time": "2018-07-17T13:22:34.784864Z",
     "start_time": "2018-07-17T13:22:27.142342Z"
    }
   },
   "outputs": [],
   "source": [
    "rebuild_molsys = molsys.rebuild_system()"
   ]
  },
  {
   "cell_type": "code",
   "execution_count": null,
   "metadata": {
    "collapsed": true
   },
   "outputs": [],
   "source": []
  }
 ],
 "metadata": {
  "kernelspec": {
   "display_name": "Python [default]",
   "language": "python",
   "name": "python3"
  },
  "language_info": {
   "codemirror_mode": {
    "name": "ipython",
    "version": 3
   },
   "file_extension": ".py",
   "mimetype": "text/x-python",
   "name": "python",
   "nbconvert_exporter": "python",
   "pygments_lexer": "ipython3",
   "version": "3.5.4"
  }
 },
 "nbformat": 4,
 "nbformat_minor": 2
}
