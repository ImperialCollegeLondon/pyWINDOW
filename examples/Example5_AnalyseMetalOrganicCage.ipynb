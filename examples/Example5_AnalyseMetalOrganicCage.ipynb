{
 "cells": [
  {
   "cell_type": "markdown",
   "metadata": {},
   "source": [
    "# Example 5\n",
    "The pywindow software is intended for the analysis of discrete units (molecules), therefore it can be easily used to analyse metalorganic cages (metallacages, metal organic polyhedra) just as porous organic cages.\n",
    "\n",
    "The Cartesian coordinates of a metalorganic cage where extracted from CCDC refcode: KICRUL (using Materials Studio v7.0.200)."
   ]
  },
  {
   "cell_type": "code",
   "execution_count": 1,
   "metadata": {},
   "outputs": [],
   "source": [
    "from pywindow import MolecularSystem"
   ]
  },
  {
   "cell_type": "markdown",
   "metadata": {},
   "source": [
    "I load the PDB file as a MolecularSystem object and then I transfer it into Molecule() class, to perform the analysis on a 'discrete molecule'. If we have multiple discrete molecules in the system we need to first use make_modular function of the MolecularSystem() class, and aditionally if there is periodic boundary issue appropriate kwargs or rebuild() function. For details, see other examples/manual."
   ]
  },
  {
   "cell_type": "code",
   "execution_count": 2,
   "metadata": {},
   "outputs": [],
   "source": [
    "molsys = MolecularSystem.load_file(\"./data/KICRUL.pdb\")\n",
    "mol = molsys.system_to_molecule()"
   ]
  },
  {
   "cell_type": "markdown",
   "metadata": {},
   "source": [
    "I calculate pore volume, windows and COM:"
   ]
  },
  {
   "cell_type": "code",
   "execution_count": 4,
   "metadata": {},
   "outputs": [
    {
     "data": {
      "text/plain": [
       "94.09967786164277"
      ]
     },
     "execution_count": 4,
     "metadata": {},
     "output_type": "execute_result"
    }
   ],
   "source": [
    "mol.calculate_pore_volume_opt()"
   ]
  },
  {
   "cell_type": "code",
   "execution_count": 5,
   "metadata": {},
   "outputs": [
    {
     "data": {
      "text/plain": [
       "(array([3.613983  , 3.59798804, 2.74513214, 3.62241986]),\n",
       " array([[29.08285878, 25.79488537, 26.86844769],\n",
       "        [24.98136343, 31.06519394, 22.96874551],\n",
       "        [32.22305961, 31.16366192, 21.56899347],\n",
       "        [28.08338499, 25.26711747, 18.25788822]]))"
      ]
     },
     "execution_count": 5,
     "metadata": {},
     "output_type": "execute_result"
    }
   ],
   "source": [
    "mol.calculate_windows()"
   ]
  },
  {
   "cell_type": "code",
   "execution_count": 6,
   "metadata": {},
   "outputs": [
    {
     "data": {
      "text/plain": [
       "array([28.53241078, 28.5607132 , 22.37445698])"
      ]
     },
     "execution_count": 6,
     "metadata": {},
     "output_type": "execute_result"
    }
   ],
   "source": [
    "mol.calculate_centre_of_mass()"
   ]
  },
  {
   "cell_type": "markdown",
   "metadata": {},
   "source": [
    "For validation purposes, it is possible to dump the molecule coordinates with the centres coordinates for the cavity (Neon atom) and the centres of windows (Argon atoms) to quickly visualise. For this we use dump_molecule() function and include_coms kwarg set to True."
   ]
  },
  {
   "cell_type": "code",
   "execution_count": 7,
   "metadata": {},
   "outputs": [],
   "source": [
    "mol.dump_molecule(include_coms=True)"
   ]
  },
  {
   "cell_type": "code",
   "execution_count": null,
   "metadata": {},
   "outputs": [],
   "source": []
  }
 ],
 "metadata": {
  "kernelspec": {
   "display_name": "Python 3",
   "language": "python",
   "name": "python3"
  },
  "language_info": {
   "codemirror_mode": {
    "name": "ipython",
    "version": 3
   },
   "file_extension": ".py",
   "mimetype": "text/x-python",
   "name": "python",
   "nbconvert_exporter": "python",
   "pygments_lexer": "ipython3",
   "version": "3.6.4"
  }
 },
 "nbformat": 4,
 "nbformat_minor": 2
}
