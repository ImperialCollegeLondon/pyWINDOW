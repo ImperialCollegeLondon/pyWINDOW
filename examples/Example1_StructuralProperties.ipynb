{
 "cells": [
  {
   "cell_type": "markdown",
   "metadata": {},
   "source": [
    "# Example 1\n",
    "\n",
    "We show basic usage of pyWINDOW package to load a PDB file containing Cartesian coordinates of a single molecule. <br> The Cartesian coordinates of a molecule where extracted from CCDC refcode: PUDXES (using Materials Studio v7.0.200). <br> \n"
   ]
  },
  {
   "cell_type": "code",
   "execution_count": 3,
   "metadata": {
    "ExecuteTime": {
     "end_time": "2017-08-01T16:47:49.829191Z",
     "start_time": "2017-08-01T16:47:49.825419Z"
    },
    "collapsed": true,
    "run_control": {
     "frozen": false,
     "read_only": false
    }
   },
   "outputs": [],
   "source": [
    "from pywindow import MolecularSystem"
   ]
  },
  {
   "cell_type": "markdown",
   "metadata": {
    "ExecuteTime": {
     "end_time": "2017-08-01T14:38:10.179318Z",
     "start_time": "2017-08-01T14:38:10.175955Z"
    }
   },
   "source": [
    "### Load a PDB file and create a MolecularSystem object."
   ]
  },
  {
   "cell_type": "code",
   "execution_count": 4,
   "metadata": {
    "ExecuteTime": {
     "end_time": "2017-08-01T16:47:50.648120Z",
     "start_time": "2017-08-01T16:47:50.642016Z"
    },
    "collapsed": true,
    "run_control": {
     "frozen": false,
     "read_only": false
    }
   },
   "outputs": [],
   "source": [
    "molsys = MolecularSystem.load_file(\"data/PUDXES.pdb\")"
   ]
  },
  {
   "cell_type": "markdown",
   "metadata": {
    "ExecuteTime": {
     "end_time": "2017-08-01T15:01:54.988786Z",
     "start_time": "2017-08-01T15:01:54.985407Z"
    }
   },
   "source": [
    "### If no preprocessing of the structure is required we can pass it directly to the Molecule class using MolecularSystem.system_to_molecule method."
   ]
  },
  {
   "cell_type": "code",
   "execution_count": 5,
   "metadata": {
    "ExecuteTime": {
     "end_time": "2017-08-01T16:47:51.724648Z",
     "start_time": "2017-08-01T16:47:51.720934Z"
    },
    "collapsed": true,
    "run_control": {
     "frozen": false,
     "read_only": false
    }
   },
   "outputs": [],
   "source": [
    "mol = molsys.system_to_molecule()"
   ]
  },
  {
   "cell_type": "markdown",
   "metadata": {
    "ExecuteTime": {
     "end_time": "2017-08-01T15:02:51.567242Z",
     "start_time": "2017-08-01T15:02:51.563708Z"
    }
   },
   "source": [
    "### We can perform each structural analysis using various Molecule class' methods or run them all using Molecule.full_analysis method."
   ]
  },
  {
   "cell_type": "code",
   "execution_count": 6,
   "metadata": {
    "ExecuteTime": {
     "end_time": "2017-08-01T16:47:55.852969Z",
     "start_time": "2017-08-01T16:47:52.680652Z"
    },
    "run_control": {
     "frozen": false,
     "read_only": false
    }
   },
   "outputs": [
    {
     "data": {
      "text/plain": [
       "{'centre_of_mass': array([ 12.4,  12.4,  12.4]),\n",
       " 'maximum_diameter': {'atom_1': 12,\n",
       "  'atom_2': 138,\n",
       "  'diameter': 22.179369990077188},\n",
       " 'no_of_atoms': 168,\n",
       " 'void_diameter': {'atom': 1, 'diameter': 5.3970201773100221},\n",
       " 'void_diameter_opt': {'atom_1': 1,\n",
       "  'centre_of_mass': array([ 12.4,  12.4,  12.4]),\n",
       "  'diameter': 5.3970201773100221},\n",
       " 'void_volume': 82.311543851544172,\n",
       " 'void_volume_opt': 82.311543851544172,\n",
       " 'windows': {'centre_of_mass': array([[ 11.02600357,  11.01384642,  13.7357335 ],\n",
       "         [ 14.01544862,  14.01541279,  14.01539861],\n",
       "         [ 11.00332393,  13.81381664,  10.97176308],\n",
       "         [ 13.92776738,  10.87219373,  10.87223269]]),\n",
       "  'diameter': array([ 3.57786688,  3.63562103,  3.59875213,  3.62896207])}}"
      ]
     },
     "execution_count": 6,
     "metadata": {},
     "output_type": "execute_result"
    }
   ],
   "source": [
    "mol.full_analysis()"
   ]
  },
  {
   "cell_type": "markdown",
   "metadata": {
    "ExecuteTime": {
     "end_time": "2017-08-01T15:06:12.141005Z",
     "start_time": "2017-08-01T15:06:12.137635Z"
    }
   },
   "source": [
    "### All structural properties are stored in the Molecule.properties dictionary and can be accessed or updated at any time."
   ]
  },
  {
   "cell_type": "code",
   "execution_count": 7,
   "metadata": {
    "ExecuteTime": {
     "end_time": "2017-08-01T16:47:55.864823Z",
     "start_time": "2017-08-01T16:47:55.855156Z"
    },
    "run_control": {
     "frozen": false,
     "read_only": false
    }
   },
   "outputs": [
    {
     "data": {
      "text/plain": [
       "{'centre_of_mass': array([ 12.4,  12.4,  12.4]),\n",
       " 'maximum_diameter': {'atom_1': 12,\n",
       "  'atom_2': 138,\n",
       "  'diameter': 22.179369990077188},\n",
       " 'no_of_atoms': 168,\n",
       " 'void_diameter': {'atom': 1, 'diameter': 5.3970201773100221},\n",
       " 'void_diameter_opt': {'atom_1': 1,\n",
       "  'centre_of_mass': array([ 12.4,  12.4,  12.4]),\n",
       "  'diameter': 5.3970201773100221},\n",
       " 'void_volume': 82.311543851544172,\n",
       " 'void_volume_opt': 82.311543851544172,\n",
       " 'windows': {'centre_of_mass': array([[ 11.02600357,  11.01384642,  13.7357335 ],\n",
       "         [ 14.01544862,  14.01541279,  14.01539861],\n",
       "         [ 11.00332393,  13.81381664,  10.97176308],\n",
       "         [ 13.92776738,  10.87219373,  10.87223269]]),\n",
       "  'diameter': array([ 3.57786688,  3.63562103,  3.59875213,  3.62896207])}}"
      ]
     },
     "execution_count": 7,
     "metadata": {},
     "output_type": "execute_result"
    }
   ],
   "source": [
    "mol.properties"
   ]
  },
  {
   "cell_type": "markdown",
   "metadata": {
    "ExecuteTime": {
     "end_time": "2017-08-01T15:07:02.134807Z",
     "start_time": "2017-08-01T15:07:02.131091Z"
    }
   },
   "source": [
    "### The properties dictionary can be dumped into a JSON file format."
   ]
  },
  {
   "cell_type": "code",
   "execution_count": null,
   "metadata": {
    "ExecuteTime": {
     "end_time": "2017-08-01T16:47:39.365643Z",
     "start_time": "2017-08-01T16:47:38.217Z"
    },
    "collapsed": true,
    "run_control": {
     "frozen": false,
     "read_only": false
    }
   },
   "outputs": [],
   "source": [
    "mol.dump_properties_json()"
   ]
  },
  {
   "cell_type": "markdown",
   "metadata": {
    "ExecuteTime": {
     "end_time": "2017-08-01T15:07:49.879570Z",
     "start_time": "2017-08-01T15:07:49.876072Z"
    }
   },
   "source": [
    "### The molecule's Cartesian coordinates can be dumped as well."
   ]
  },
  {
   "cell_type": "code",
   "execution_count": null,
   "metadata": {
    "ExecuteTime": {
     "end_time": "2017-08-01T16:47:39.366938Z",
     "start_time": "2017-08-01T16:47:38.219Z"
    },
    "collapsed": true,
    "run_control": {
     "frozen": false,
     "read_only": false
    }
   },
   "outputs": [],
   "source": [
    "mol.dump_molecule()"
   ]
  }
 ],
 "metadata": {
  "kernelspec": {
   "display_name": "Python [default]",
   "language": "python",
   "name": "python3"
  },
  "language_info": {
   "codemirror_mode": {
    "name": "ipython",
    "version": 3
   },
   "file_extension": ".py",
   "mimetype": "text/x-python",
   "name": "python",
   "nbconvert_exporter": "python",
   "pygments_lexer": "ipython3",
   "version": "3.5.4"
  }
 },
 "nbformat": 4,
 "nbformat_minor": 2
}
