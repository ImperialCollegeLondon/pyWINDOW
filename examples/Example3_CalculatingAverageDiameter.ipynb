{
 "cells": [
  {
   "cell_type": "code",
   "execution_count": 2,
   "metadata": {
    "ExecuteTime": {
     "end_time": "2018-04-10T16:28:49.376832Z",
     "start_time": "2018-04-10T16:28:49.372602Z"
    },
    "collapsed": true,
    "run_control": {
     "frozen": false,
     "read_only": false
    }
   },
   "outputs": [],
   "source": [
    "from pywindow import MolecularSystem"
   ]
  },
  {
   "cell_type": "markdown",
   "metadata": {
    "ExecuteTime": {
     "end_time": "2018-04-10T16:31:26.997606Z",
     "start_time": "2018-04-10T16:31:26.993286Z"
    }
   },
   "source": [
    "### First loading a molecular system and as it is a discrete molecule we use system_to_molecule method to create a Molecule object"
   ]
  },
  {
   "cell_type": "code",
   "execution_count": 3,
   "metadata": {
    "ExecuteTime": {
     "end_time": "2018-04-10T16:29:08.500143Z",
     "start_time": "2018-04-10T16:29:08.484453Z"
    },
    "collapsed": true
   },
   "outputs": [],
   "source": [
    "molsys = MolecularSystem.load_file(\"data/PUDXES.pdb\")\n",
    "mol = molsys.system_to_molecule()"
   ]
  },
  {
   "cell_type": "markdown",
   "metadata": {},
   "source": [
    "### To calculate average diameter of a molecule we use calculate_average_diameter method of Molecule class. The output is in the unit of distance from the input file - in this case Angstroms"
   ]
  },
  {
   "cell_type": "code",
   "execution_count": 4,
   "metadata": {
    "ExecuteTime": {
     "end_time": "2018-04-10T16:29:58.956132Z",
     "start_time": "2018-04-10T16:29:15.060708Z"
    }
   },
   "outputs": [
    {
     "data": {
      "text/plain": [
       "13.861531602770157"
      ]
     },
     "execution_count": 4,
     "metadata": {},
     "output_type": "execute_result"
    }
   ],
   "source": [
    "mol.calculate_average_diameter()"
   ]
  },
  {
   "cell_type": "code",
   "execution_count": null,
   "metadata": {
    "collapsed": true
   },
   "outputs": [],
   "source": []
  }
 ],
 "metadata": {
  "kernelspec": {
   "display_name": "Python [default]",
   "language": "python",
   "name": "python3"
  },
  "language_info": {
   "codemirror_mode": {
    "name": "ipython",
    "version": 3
   },
   "file_extension": ".py",
   "mimetype": "text/x-python",
   "name": "python",
   "nbconvert_exporter": "python",
   "pygments_lexer": "ipython3",
   "version": "3.5.4"
  }
 },
 "nbformat": 4,
 "nbformat_minor": 2
}
