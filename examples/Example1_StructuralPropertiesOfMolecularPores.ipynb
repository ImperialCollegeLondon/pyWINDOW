{
 "cells": [
  {
   "cell_type": "markdown",
   "metadata": {},
   "source": [
    "# Example 1\n",
    "\n",
    "We show basic usage of pywindow package to load an XYZ file containing Cartesian coordinates of a single molecule. <br> The Cartesian coordinates of a molecule where extracted from CIF files (using Materials Studio v7.0.200) for CSD refcodes: \n",
    "\n",
    "PUDXES, YAQHOQ, BATVUP, NUXHIZ, REYMAL <br> \n"
   ]
  },
  {
   "cell_type": "code",
   "execution_count": null,
   "metadata": {
    "ExecuteTime": {
     "end_time": "2018-07-17T11:26:20.386898Z",
     "start_time": "2018-07-17T11:26:16.866387Z"
    },
    "collapsed": true,
    "run_control": {
     "frozen": false,
     "read_only": false
    }
   },
   "outputs": [],
   "source": [
    "import pywindow as pw"
   ]
  },
  {
   "cell_type": "markdown",
   "metadata": {
    "ExecuteTime": {
     "end_time": "2017-08-01T14:38:10.179318Z",
     "start_time": "2017-08-01T14:38:10.175955Z"
    }
   },
   "source": [
    "### Load a PDB file and create a MolecularSystem object."
   ]
  },
  {
   "cell_type": "code",
   "execution_count": null,
   "metadata": {
    "ExecuteTime": {
     "end_time": "2018-07-17T11:26:33.106406Z",
     "start_time": "2018-07-17T11:26:33.099676Z"
    },
    "collapsed": true,
    "run_control": {
     "frozen": false,
     "read_only": false
    }
   },
   "outputs": [],
   "source": [
    "molsys = pw.MolecularSystem.load_file(\"data/input/PUDXES.xyz\")"
   ]
  },
  {
   "cell_type": "markdown",
   "metadata": {
    "ExecuteTime": {
     "end_time": "2017-08-01T15:01:54.988786Z",
     "start_time": "2017-08-01T15:01:54.985407Z"
    }
   },
   "source": [
    "### If no preprocessing of the structure is required we can pass it directly to the Molecule class using MolecularSystem.system_to_molecule method."
   ]
  },
  {
   "cell_type": "code",
   "execution_count": null,
   "metadata": {
    "ExecuteTime": {
     "end_time": "2018-07-17T11:26:36.374113Z",
     "start_time": "2018-07-17T11:26:36.369060Z"
    },
    "collapsed": true,
    "run_control": {
     "frozen": false,
     "read_only": false
    }
   },
   "outputs": [],
   "source": [
    "mol = molsys.system_to_molecule()"
   ]
  },
  {
   "cell_type": "markdown",
   "metadata": {
    "ExecuteTime": {
     "end_time": "2017-08-01T15:02:51.567242Z",
     "start_time": "2017-08-01T15:02:51.563708Z"
    }
   },
   "source": [
    "### We can perform each structural analysis using various Molecule class' methods"
   ]
  },
  {
   "cell_type": "code",
   "execution_count": null,
   "metadata": {
    "ExecuteTime": {
     "end_time": "2018-07-17T11:29:06.199396Z",
     "start_time": "2018-07-17T11:29:06.190779Z"
    }
   },
   "outputs": [],
   "source": [
    "mol.calculate_centre_of_mass()"
   ]
  },
  {
   "cell_type": "code",
   "execution_count": null,
   "metadata": {
    "ExecuteTime": {
     "end_time": "2018-07-17T11:30:14.866967Z",
     "start_time": "2018-07-17T11:30:14.857733Z"
    }
   },
   "outputs": [],
   "source": [
    "mol.calculate_maximum_diameter()"
   ]
  },
  {
   "cell_type": "code",
   "execution_count": null,
   "metadata": {
    "ExecuteTime": {
     "end_time": "2018-07-17T11:30:23.536635Z",
     "start_time": "2018-07-17T11:30:23.088580Z"
    }
   },
   "outputs": [],
   "source": [
    "mol.calculate_average_diameter()"
   ]
  },
  {
   "cell_type": "code",
   "execution_count": null,
   "metadata": {
    "ExecuteTime": {
     "end_time": "2018-07-17T11:29:16.224105Z",
     "start_time": "2018-07-17T11:29:16.215155Z"
    }
   },
   "outputs": [],
   "source": [
    "mol.calculate_pore_diameter()"
   ]
  },
  {
   "cell_type": "code",
   "execution_count": null,
   "metadata": {
    "ExecuteTime": {
     "end_time": "2018-07-17T11:29:34.417394Z",
     "start_time": "2018-07-17T11:29:34.407692Z"
    }
   },
   "outputs": [],
   "source": [
    "mol.calculate_pore_volume()"
   ]
  },
  {
   "cell_type": "code",
   "execution_count": null,
   "metadata": {
    "ExecuteTime": {
     "end_time": "2018-07-17T11:29:25.054160Z",
     "start_time": "2018-07-17T11:29:24.991598Z"
    }
   },
   "outputs": [],
   "source": [
    "mol.calculate_pore_diameter_opt()"
   ]
  },
  {
   "cell_type": "code",
   "execution_count": null,
   "metadata": {
    "ExecuteTime": {
     "end_time": "2018-07-17T11:29:40.309777Z",
     "start_time": "2018-07-17T11:29:40.247707Z"
    }
   },
   "outputs": [],
   "source": [
    "mol.calculate_pore_volume_opt()"
   ]
  },
  {
   "cell_type": "code",
   "execution_count": null,
   "metadata": {
    "ExecuteTime": {
     "end_time": "2018-07-17T11:30:00.301302Z",
     "start_time": "2018-07-17T11:29:57.975708Z"
    }
   },
   "outputs": [],
   "source": [
    "mol.calculate_windows()"
   ]
  },
  {
   "cell_type": "markdown",
   "metadata": {},
   "source": [
    "### All calculated values are stored in the properties attribute of the Molecule object which is simply a dictionary updated each time a new property is calculated or re-calculated"
   ]
  },
  {
   "cell_type": "code",
   "execution_count": null,
   "metadata": {
    "ExecuteTime": {
     "end_time": "2018-07-17T11:31:46.197138Z",
     "start_time": "2018-07-17T11:31:46.186661Z"
    },
    "run_control": {
     "frozen": false,
     "read_only": false
    }
   },
   "outputs": [],
   "source": [
    "mol.properties"
   ]
  },
  {
   "cell_type": "markdown",
   "metadata": {},
   "source": [
    "### Alternatively all properties can be calculated at once with the full_analysis() method of the Molecule class"
   ]
  },
  {
   "cell_type": "code",
   "execution_count": null,
   "metadata": {
    "ExecuteTime": {
     "end_time": "2018-07-17T11:32:19.037847Z",
     "start_time": "2018-07-17T11:32:16.628093Z"
    },
    "run_control": {
     "frozen": false,
     "read_only": false
    }
   },
   "outputs": [],
   "source": [
    "mol.full_analysis()"
   ]
  },
  {
   "cell_type": "markdown",
   "metadata": {
    "ExecuteTime": {
     "end_time": "2017-08-01T15:07:02.134807Z",
     "start_time": "2017-08-01T15:07:02.131091Z"
    }
   },
   "source": [
    "### The properties dictionary can be dumped into a JSON file format."
   ]
  },
  {
   "cell_type": "code",
   "execution_count": null,
   "metadata": {
    "ExecuteTime": {
     "end_time": "2018-07-17T11:39:01.812559Z",
     "start_time": "2018-07-17T11:39:01.806810Z"
    },
    "run_control": {
     "frozen": false,
     "read_only": false
    }
   },
   "outputs": [],
   "source": [
    "mol.dump_properties_json(\"./data/output/PUDXES_out.json\")"
   ]
  },
  {
   "cell_type": "markdown",
   "metadata": {
    "ExecuteTime": {
     "end_time": "2017-08-01T15:07:49.879570Z",
     "start_time": "2017-08-01T15:07:49.876072Z"
    }
   },
   "source": [
    "### The molecule's Cartesian coordinates can be dumped as well with an overlay of window centres and COMs."
   ]
  },
  {
   "cell_type": "code",
   "execution_count": null,
   "metadata": {
    "ExecuteTime": {
     "end_time": "2018-07-17T11:39:02.905012Z",
     "start_time": "2018-07-17T11:39:02.895105Z"
    },
    "collapsed": true,
    "run_control": {
     "frozen": false,
     "read_only": false
    }
   },
   "outputs": [],
   "source": [
    "mol.dump_molecule(\"./data/output/PUDXES_out.pdb\", include_coms=True)"
   ]
  },
  {
   "cell_type": "markdown",
   "metadata": {},
   "source": [
    "## Other examples with varying properties"
   ]
  },
  {
   "cell_type": "markdown",
   "metadata": {},
   "source": [
    "### YAQHOQ"
   ]
  },
  {
   "cell_type": "code",
   "execution_count": null,
   "metadata": {
    "ExecuteTime": {
     "end_time": "2018-07-17T12:54:43.346570Z",
     "start_time": "2018-07-17T12:54:42.606422Z"
    }
   },
   "outputs": [],
   "source": [
    "molsys = pw.MolecularSystem.load_file(\"data/input/YAQHOQ.xyz\")\n",
    "mol = molsys.system_to_molecule()\n",
    "mol.full_analysis()"
   ]
  },
  {
   "cell_type": "code",
   "execution_count": null,
   "metadata": {
    "collapsed": true
   },
   "outputs": [],
   "source": [
    "mol.dump_properties_json(\"./data/output/YAQHOQ_out.json\")\n",
    "mol.dump_molecule(\"./data/output/YAQHOQ_out.pdb\", include_coms=True)"
   ]
  },
  {
   "cell_type": "markdown",
   "metadata": {},
   "source": [
    "### BATVUP"
   ]
  },
  {
   "cell_type": "code",
   "execution_count": null,
   "metadata": {
    "ExecuteTime": {
     "end_time": "2018-07-17T12:56:16.312583Z",
     "start_time": "2018-07-17T12:56:15.112308Z"
    }
   },
   "outputs": [],
   "source": [
    "molsys = pw.MolecularSystem.load_file(\"data/input/BATVUP.xyz\")\n",
    "mol = molsys.system_to_molecule()\n",
    "mol.full_analysis()"
   ]
  },
  {
   "cell_type": "code",
   "execution_count": null,
   "metadata": {
    "collapsed": true
   },
   "outputs": [],
   "source": [
    "mol.dump_properties_json(\"./data/output/BATVUP_out.json\")\n",
    "mol.dump_molecule(\"./data/output/BATVUP_out.pdb\", include_coms=True)"
   ]
  },
  {
   "cell_type": "markdown",
   "metadata": {
    "ExecuteTime": {
     "end_time": "2018-07-17T12:58:51.361390Z",
     "start_time": "2018-07-17T12:58:51.356777Z"
    }
   },
   "source": [
    "### NUXHIZ"
   ]
  },
  {
   "cell_type": "code",
   "execution_count": null,
   "metadata": {
    "ExecuteTime": {
     "end_time": "2018-07-17T12:56:29.360004Z",
     "start_time": "2018-07-17T12:56:27.056871Z"
    }
   },
   "outputs": [],
   "source": [
    "molsys = pw.MolecularSystem.load_file(\"data/input/NUXHIZ.xyz\")\n",
    "mol = molsys.system_to_molecule()\n",
    "mol.full_analysis()"
   ]
  },
  {
   "cell_type": "code",
   "execution_count": null,
   "metadata": {
    "collapsed": true
   },
   "outputs": [],
   "source": [
    "mol.dump_properties_json(\"./data/output/NUXHIZ_out.json\")\n",
    "mol.dump_molecule(\"./data/output/NUXHIZ_out.pdb\", include_coms=True)"
   ]
  },
  {
   "cell_type": "markdown",
   "metadata": {},
   "source": [
    "### REYMAL"
   ]
  },
  {
   "cell_type": "code",
   "execution_count": null,
   "metadata": {
    "ExecuteTime": {
     "end_time": "2018-07-17T12:56:47.120674Z",
     "start_time": "2018-07-17T12:56:40.032854Z"
    }
   },
   "outputs": [],
   "source": [
    "molsys = pw.MolecularSystem.load_file(\"data/input/REYMAL.xyz\")\n",
    "mol = molsys.system_to_molecule()\n",
    "mol.full_analysis()"
   ]
  },
  {
   "cell_type": "code",
   "execution_count": null,
   "metadata": {
    "collapsed": true
   },
   "outputs": [],
   "source": [
    "mol.dump_properties_json(\"./data/output/REYMAL_out.json\")\n",
    "mol.dump_molecule(\"./data/output/REYMAL_out.pdb\", include_coms=True)"
   ]
  }
 ],
 "metadata": {
  "kernelspec": {
   "display_name": "Python [default]",
   "language": "python",
   "name": "python3"
  },
  "language_info": {
   "codemirror_mode": {
    "name": "ipython",
    "version": 3
   },
   "file_extension": ".py",
   "mimetype": "text/x-python",
   "name": "python",
   "nbconvert_exporter": "python",
   "pygments_lexer": "ipython3",
   "version": "3.5.4"
  }
 },
 "nbformat": 4,
 "nbformat_minor": 2
}
