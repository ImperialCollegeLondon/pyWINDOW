{
 "cells": [
  {
   "cell_type": "markdown",
   "metadata": {},
   "source": [
    "# Example 4\n",
    "Although pywindow software is intended on the analysis of discrete units (molecules), there is some functionality that is easily transferable for the analysis of periodic systems like MOFs, however in a non-periodic way. \n",
    "\n",
    "The Cartesian coordinates of a MOF where extracted from CCDC refcode: MIBQAR (using Materials Studio v7.0.200).\n",
    "\n",
    "The MOF coordinates include the cage (cavity and it's immidate chemical seroudings) to be analysed (see data/MIBQAR.pdb file), this way we can use the pywindow utility to calculate cavities and windows as for discrete molecules. "
   ]
  },
  {
   "cell_type": "code",
   "execution_count": 1,
   "metadata": {},
   "outputs": [],
   "source": [
    "from pywindow import MolecularSystem"
   ]
  },
  {
   "cell_type": "markdown",
   "metadata": {},
   "source": [
    "I load the PDB file as a MolecularSystem object and then I transfer it into Molecule() class, to perform the analysis as if on a 'discrete molecule'"
   ]
  },
  {
   "cell_type": "code",
   "execution_count": 2,
   "metadata": {},
   "outputs": [],
   "source": [
    "molsys = MolecularSystem.load_file(\"./data/MIBQAR.pdb\")\n",
    "mol = molsys.system_to_molecule()"
   ]
  },
  {
   "cell_type": "markdown",
   "metadata": {},
   "source": [
    "I calculate pore volume, windows and COM:"
   ]
  },
  {
   "cell_type": "code",
   "execution_count": 4,
   "metadata": {},
   "outputs": [
    {
     "data": {
      "text/plain": [
       "968.94313141993"
      ]
     },
     "execution_count": 4,
     "metadata": {},
     "output_type": "execute_result"
    }
   ],
   "source": [
    "mol.calculate_pore_volume_opt()"
   ]
  },
  {
   "cell_type": "code",
   "execution_count": 5,
   "metadata": {},
   "outputs": [
    {
     "data": {
      "text/plain": [
       "(array([7.9480506 , 7.96284953, 7.9373967 , 7.94278576, 7.95022873,\n",
       "        7.9471185 ]), array([[12.94597471, 12.94601827, 18.83787636],\n",
       "        [12.94601429,  6.9269696 , 12.94597309],\n",
       "        [ 7.2171562 , 12.94597693, 12.94602315],\n",
       "        [12.94596696, 18.77462095, 12.94596933],\n",
       "        [18.85993235, 12.94601448, 12.94598322],\n",
       "        [12.94600134, 12.94597815,  7.06434421]]))"
      ]
     },
     "execution_count": 5,
     "metadata": {},
     "output_type": "execute_result"
    }
   ],
   "source": [
    "mol.calculate_windows()"
   ]
  },
  {
   "cell_type": "code",
   "execution_count": 7,
   "metadata": {},
   "outputs": [
    {
     "data": {
      "text/plain": [
       "array([12.9459922, 12.9459922, 12.9459922])"
      ]
     },
     "execution_count": 7,
     "metadata": {},
     "output_type": "execute_result"
    }
   ],
   "source": [
    "mol.calculate_centre_of_mass()"
   ]
  },
  {
   "cell_type": "markdown",
   "metadata": {},
   "source": [
    "For validation purposes, it is possible to dump the molecule coordinates with the centres coordinates for the cavity (Neon atom) and the centres of windows (Argon atoms) to quickly visualise. For this we use dump_molecule() function and include_coms kwarg set to True."
   ]
  },
  {
   "cell_type": "code",
   "execution_count": 8,
   "metadata": {},
   "outputs": [],
   "source": [
    "mol.dump_molecule(include_coms=True)"
   ]
  },
  {
   "cell_type": "code",
   "execution_count": null,
   "metadata": {},
   "outputs": [],
   "source": []
  }
 ],
 "metadata": {
  "kernelspec": {
   "display_name": "Python 3",
   "language": "python",
   "name": "python3"
  },
  "language_info": {
   "codemirror_mode": {
    "name": "ipython",
    "version": 3
   },
   "file_extension": ".py",
   "mimetype": "text/x-python",
   "name": "python",
   "nbconvert_exporter": "python",
   "pygments_lexer": "ipython3",
   "version": "3.6.4"
  }
 },
 "nbformat": 4,
 "nbformat_minor": 2
}
